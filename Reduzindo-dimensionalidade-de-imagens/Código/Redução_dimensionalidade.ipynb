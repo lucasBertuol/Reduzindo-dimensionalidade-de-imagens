{
 "cells": [
  {
   "cell_type": "code",
   "execution_count": 49,
   "id": "59c80176-6e9f-408a-9a60-bb8d28d35499",
   "metadata": {},
   "outputs": [],
   "source": [
    "from PIL import Image\n",
    "import os"
   ]
  },
  {
   "cell_type": "code",
   "execution_count": 50,
   "id": "18b5ab36-6335-4389-ae16-254bd6ec3d76",
   "metadata": {},
   "outputs": [],
   "source": [
    "def carregar_imagem(caminho_imagem): # Função para obter imagem\n",
    "    try:\n",
    "        imagem = Image.open(caminho_imagem)\n",
    "        return imagem.convert('RGB')  # Garante formato RGB\n",
    "    except Exception as e:\n",
    "        print(f\"Erro ao carregar imagem: {e}\")\n",
    "        return None"
   ]
  },
  {
   "cell_type": "code",
   "execution_count": 51,
   "id": "3ff25549-430c-40f5-995c-5785e30da11b",
   "metadata": {},
   "outputs": [],
   "source": [
    "\"\"\"\n",
    "imagem_cinza = imagem.convert(\"L\") # Usa o método .convert() para deixar a imagem cinza\n",
    "imagem_cinza.save(\"Pictures\\\\porsche-cinza.jpg\") \n",
    "\"\"\"\n",
    "def grayscale(imagem):    # Exemplo de uma função que converte uma imagem RGB para níveis de cinza\n",
    "    largura, altura = imagem.size\n",
    "\n",
    "    imagem_cinza = Image.new('L', (largura, altura))    # Cria uma imagem vazia em formato grayscale e com as mesmas dimensões da imagem rgb\n",
    "\n",
    "        \n",
    "    for x in range(largura):    #Processa cada pixel individualmente\n",
    "        for y in range(altura):\n",
    "            r, g, b = imagem.getpixel((x, y))    # Obter valores RGB do pixel\n",
    "            \n",
    "            valor_cinza = int(0.299 * r + 0.587 * g + 0.114 * b)    # Aplicamos a fórmula da Luminância Ponderada, a mesma usada pelo Pillow em .convert()\n",
    "            \n",
    "            imagem_cinza.putpixel((x, y), valor_cinza)    # Define novo valor do pixel\n",
    "    \n",
    "    return imagem_cinza"
   ]
  },
  {
   "cell_type": "code",
   "execution_count": 52,
   "id": "0d20c258-9119-426a-9052-d58205a6f998",
   "metadata": {},
   "outputs": [],
   "source": [
    "def cinza_para_binario(imagem_cinza, limiar=128):    # Converte imagem cinza para binária (preto e branco). O limiar serve como ponto de corte\n",
    "    largura, altura = imagem_cinza.size\n",
    "    \n",
    "    imagem_binaria = Image.new('L', (largura, altura))    # Cria uma imagem vazia em formato grayscale e com as mesmas dimensões da imagem cinza\n",
    "    \n",
    "    for x in range(largura): #Processa cada pixel \n",
    "        for y in range(altura):\n",
    "            valor_pixel = imagem_cinza.getpixel((x, y))    # Obter valor do pixel em cinza\n",
    "            \n",
    "            if valor_pixel >= limiar:    # Aplica binarização\n",
    "                novo_valor = 255    # Branco\n",
    "            else:\n",
    "                novo_valor = 0    # Preto\n",
    "                \n",
    "            imagem_binaria.putpixel((x, y), novo_valor)    # Define novo valor do pixel  \n",
    "    \n",
    "    return imagem_binaria"
   ]
  },
  {
   "cell_type": "code",
   "execution_count": 53,
   "id": "2423d974-18c8-4e97-8b83-66f3d67ce576",
   "metadata": {},
   "outputs": [],
   "source": [
    "def processar_imagem(caminho_imagem, limiar_binarizacao=128):    # Função principal\n",
    "    print(\"=== PROCESSAMENTO DE IMAGEM ===\")\n",
    "    \n",
    "    print(\"1. Carregando imagem...\")    # 1. Carrega imagem original\n",
    "    imagem_original = carregar_imagem(caminho_imagem)\n",
    "    if imagem_original is None:\n",
    "        return\n",
    "    \n",
    "    print(f\"   Dimensões: {imagem_original.size}\")\n",
    "    \n",
    "    print(\"2. Convertendo para níveis de cinza...\")    # 2. Converte para cinza\n",
    "    imagem_cinza = grayscale(imagem_original)\n",
    "    \n",
    "    print(\"3. Aplicando binarização...\")    # 3. Binariza a imagem cinza\n",
    "    imagem_binaria = cinza_para_binario(imagem_cinza, limiar_binarizacao)\n",
    "    \n",
    "    nome_base = os.path.splitext(os.path.basename(caminho_imagem))[0]    # 4. Salva os resultados\n",
    "    \n",
    "    caminho_cinza = f\"{nome_base}_cinza.png\"\n",
    "    caminho_binaria = f\"{nome_base}_binaria.png\"\n",
    "    \n",
    "    imagem_cinza.save(caminho_cinza)\n",
    "    imagem_binaria.save(caminho_binaria)\n",
    "    \n",
    "    print(f\"4. Imagens salvas:\")\n",
    "    print(f\"   - Cinza: {caminho_cinza}\")\n",
    "    print(f\"   - Binária: {caminho_binaria}\")\n",
    "    \n",
    "    return imagem_original, imagem_cinza, imagem_binaria\n"
   ]
  },
  {
   "cell_type": "code",
   "execution_count": null,
   "id": "0ceb9bac-f535-4e08-be90-8aca0552a985",
   "metadata": {},
   "outputs": [
    {
     "name": "stdout",
     "output_type": "stream",
     "text": [
      "Insira o caminho da imagem a ser convertida:  Pictures\\\\porsche-911-yellow.jpg\n"
     ]
    },
    {
     "name": "stdout",
     "output_type": "stream",
     "text": [
      "=== PROCESSAMENTO DE IMAGEM ===\n",
      "1. Carregando imagem...\n",
      "   Dimensões: (1030, 648)\n",
      "2. Convertendo para níveis de cinza...\n",
      "3. Aplicando binarização...\n",
      "4. Imagens salvas:\n",
      "   - Cinza: porsche-911-yellow_cinza.png\n",
      "   - Binária: porsche-911-yellow_binaria.png\n"
     ]
    }
   ],
   "source": [
    "if __name__ == \"__main__\":\n",
    "    caminho_imagem = input(\"Insira o caminho da imagem a ser convertida (sem aspas): \")    # Solicita ao usuário para especificar o caminho da imagem    \n",
    "\n",
    "    resultado = processar_imagem(caminho_imagem)    # Executa todo o programa"
   ]
  },
  {
   "cell_type": "code",
   "execution_count": null,
   "id": "d2788cdf-eb62-4770-9680-2e5931223458",
   "metadata": {},
   "outputs": [],
   "source": []
  }
 ],
 "metadata": {
  "kernelspec": {
   "display_name": "Python 3 (ipykernel)",
   "language": "python",
   "name": "python3"
  },
  "language_info": {
   "codemirror_mode": {
    "name": "ipython",
    "version": 3
   },
   "file_extension": ".py",
   "mimetype": "text/x-python",
   "name": "python",
   "nbconvert_exporter": "python",
   "pygments_lexer": "ipython3",
   "version": "3.9.23"
  }
 },
 "nbformat": 4,
 "nbformat_minor": 5
}
